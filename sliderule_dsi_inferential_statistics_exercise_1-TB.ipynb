{
 "cells": [
  {
   "cell_type": "markdown",
   "metadata": {},
   "source": [
    "# What is the True Normal Human Body Temperature? \n",
    "\n",
    "#### Background\n",
    "\n",
    "The mean normal body temperature was held to be 37$^{\\circ}$C or 98.6$^{\\circ}$F for more than 120 years since it was first conceptualized and reported by Carl Wunderlich in a famous 1868 book. But, is this value statistically correct?"
   ]
  },
  {
   "cell_type": "markdown",
   "metadata": {},
   "source": [
    "<h3>Exercises</h3>\n",
    "\n",
    "<p>In this exercise, you will analyze a dataset of human body temperatures and employ the concepts of hypothesis testing, confidence intervals, and statistical significance.</p>\n",
    "\n",
    "<p>Answer the following questions <b>in this notebook below and submit to your Github account</b>.</p> \n",
    "\n",
    "<ol>\n",
    "<li>  Is the distribution of body temperatures normal? \n",
    "    <ul>\n",
    "    <li> Although this is not a requirement for the Central Limit Theorem to hold (read the introduction on Wikipedia's page about the CLT carefully: https://en.wikipedia.org/wiki/Central_limit_theorem), it gives us some peace of mind that the population may also be normally distributed if we assume that this sample is representative of the population.\n",
    "    <li> Think about the way you're going to check for the normality of the distribution. Graphical methods are usually used first, but there are also other ways: https://en.wikipedia.org/wiki/Normality_test\n",
    "    </ul>\n",
    "<li>  Is the sample size large? Are the observations independent?\n",
    "    <ul>\n",
    "    <li> Remember that this is a condition for the Central Limit Theorem, and hence the statistical tests we are using, to apply.\n",
    "    </ul>\n",
    "<li>  Is the true population mean really 98.6 degrees F?\n",
    "    <ul>\n",
    "    <li> First, try a bootstrap hypothesis test.\n",
    "    <li> Now, let's try frequentist statistical testing. Would you use a one-sample or two-sample test? Why?\n",
    "    <li> In this situation, is it appropriate to use the $t$ or $z$ statistic? \n",
    "    <li> Now try using the other test. How is the result be different? Why?\n",
    "    </ul>\n",
    "<li>  Draw a small sample of size 10 from the data and repeat both frequentist tests. \n",
    "    <ul>\n",
    "    <li> Which one is the correct one to use? \n",
    "    <li> What do you notice? What does this tell you about the difference in application of the $t$ and $z$ statistic?\n",
    "    </ul>\n",
    "<li>  At what temperature should we consider someone's temperature to be \"abnormal\"?\n",
    "    <ul>\n",
    "    <li> As in the previous example, try calculating everything using the boostrap approach, as well as the frequentist approach.\n",
    "    <li> Start by computing the margin of error and confidence interval. When calculating the confidence interval, keep in mind that you should use the appropriate formula for one draw, and not N draws.\n",
    "    </ul>\n",
    "<li>  Is there a significant difference between males and females in normal temperature?\n",
    "    <ul>\n",
    "    <li> What testing approach did you use and why?\n",
    "    <li> Write a story with your conclusion in the context of the original problem.\n",
    "    </ul>\n",
    "</ol>\n",
    "\n",
    "You can include written notes in notebook cells using Markdown: \n",
    "   - In the control panel at the top, choose Cell > Cell Type > Markdown\n",
    "   - Markdown syntax: http://nestacms.com/docs/creating-content/markdown-cheat-sheet\n",
    "\n",
    "#### Resources\n",
    "\n",
    "+ Information and data sources: http://www.amstat.org/publications/jse/datasets/normtemp.txt, http://www.amstat.org/publications/jse/jse_data_archive.htm\n",
    "+ Markdown syntax: http://nestacms.com/docs/creating-content/markdown-cheat-sheet\n",
    "\n",
    "****"
   ]
  },
  {
   "cell_type": "code",
   "execution_count": 22,
   "metadata": {},
   "outputs": [],
   "source": [
    "import pandas as pd\n",
    "\n",
    "df = pd.read_csv('data/human_body_temperature.csv')\n"
   ]
  },
  {
   "cell_type": "code",
   "execution_count": 23,
   "metadata": {},
   "outputs": [
    {
     "data": {
      "text/html": [
       "<div>\n",
       "<style scoped>\n",
       "    .dataframe tbody tr th:only-of-type {\n",
       "        vertical-align: middle;\n",
       "    }\n",
       "\n",
       "    .dataframe tbody tr th {\n",
       "        vertical-align: top;\n",
       "    }\n",
       "\n",
       "    .dataframe thead th {\n",
       "        text-align: right;\n",
       "    }\n",
       "</style>\n",
       "<table border=\"1\" class=\"dataframe\">\n",
       "  <thead>\n",
       "    <tr style=\"text-align: right;\">\n",
       "      <th></th>\n",
       "      <th>temperature</th>\n",
       "      <th>gender</th>\n",
       "      <th>heart_rate</th>\n",
       "    </tr>\n",
       "  </thead>\n",
       "  <tbody>\n",
       "    <tr>\n",
       "      <th>0</th>\n",
       "      <td>99.3</td>\n",
       "      <td>F</td>\n",
       "      <td>68.0</td>\n",
       "    </tr>\n",
       "    <tr>\n",
       "      <th>1</th>\n",
       "      <td>98.4</td>\n",
       "      <td>F</td>\n",
       "      <td>81.0</td>\n",
       "    </tr>\n",
       "    <tr>\n",
       "      <th>2</th>\n",
       "      <td>97.8</td>\n",
       "      <td>M</td>\n",
       "      <td>73.0</td>\n",
       "    </tr>\n",
       "    <tr>\n",
       "      <th>3</th>\n",
       "      <td>99.2</td>\n",
       "      <td>F</td>\n",
       "      <td>66.0</td>\n",
       "    </tr>\n",
       "    <tr>\n",
       "      <th>4</th>\n",
       "      <td>98.0</td>\n",
       "      <td>F</td>\n",
       "      <td>73.0</td>\n",
       "    </tr>\n",
       "    <tr>\n",
       "      <th>5</th>\n",
       "      <td>99.2</td>\n",
       "      <td>M</td>\n",
       "      <td>83.0</td>\n",
       "    </tr>\n",
       "    <tr>\n",
       "      <th>6</th>\n",
       "      <td>98.0</td>\n",
       "      <td>M</td>\n",
       "      <td>71.0</td>\n",
       "    </tr>\n",
       "    <tr>\n",
       "      <th>7</th>\n",
       "      <td>98.8</td>\n",
       "      <td>M</td>\n",
       "      <td>78.0</td>\n",
       "    </tr>\n",
       "    <tr>\n",
       "      <th>8</th>\n",
       "      <td>98.4</td>\n",
       "      <td>F</td>\n",
       "      <td>84.0</td>\n",
       "    </tr>\n",
       "    <tr>\n",
       "      <th>9</th>\n",
       "      <td>98.6</td>\n",
       "      <td>F</td>\n",
       "      <td>86.0</td>\n",
       "    </tr>\n",
       "  </tbody>\n",
       "</table>\n",
       "</div>"
      ],
      "text/plain": [
       "   temperature gender  heart_rate\n",
       "0         99.3      F        68.0\n",
       "1         98.4      F        81.0\n",
       "2         97.8      M        73.0\n",
       "3         99.2      F        66.0\n",
       "4         98.0      F        73.0\n",
       "5         99.2      M        83.0\n",
       "6         98.0      M        71.0\n",
       "7         98.8      M        78.0\n",
       "8         98.4      F        84.0\n",
       "9         98.6      F        86.0"
      ]
     },
     "execution_count": 23,
     "metadata": {},
     "output_type": "execute_result"
    }
   ],
   "source": [
    "#Exploring the data\n",
    "df.head(10)"
   ]
  },
  {
   "cell_type": "code",
   "execution_count": 24,
   "metadata": {},
   "outputs": [
    {
     "data": {
      "text/html": [
       "<div>\n",
       "<style scoped>\n",
       "    .dataframe tbody tr th:only-of-type {\n",
       "        vertical-align: middle;\n",
       "    }\n",
       "\n",
       "    .dataframe tbody tr th {\n",
       "        vertical-align: top;\n",
       "    }\n",
       "\n",
       "    .dataframe thead th {\n",
       "        text-align: right;\n",
       "    }\n",
       "</style>\n",
       "<table border=\"1\" class=\"dataframe\">\n",
       "  <thead>\n",
       "    <tr style=\"text-align: right;\">\n",
       "      <th></th>\n",
       "      <th>temperature</th>\n",
       "      <th>heart_rate</th>\n",
       "    </tr>\n",
       "  </thead>\n",
       "  <tbody>\n",
       "    <tr>\n",
       "      <th>count</th>\n",
       "      <td>130.000000</td>\n",
       "      <td>130.000000</td>\n",
       "    </tr>\n",
       "    <tr>\n",
       "      <th>mean</th>\n",
       "      <td>98.249231</td>\n",
       "      <td>73.761538</td>\n",
       "    </tr>\n",
       "    <tr>\n",
       "      <th>std</th>\n",
       "      <td>0.733183</td>\n",
       "      <td>7.062077</td>\n",
       "    </tr>\n",
       "    <tr>\n",
       "      <th>min</th>\n",
       "      <td>96.300000</td>\n",
       "      <td>57.000000</td>\n",
       "    </tr>\n",
       "    <tr>\n",
       "      <th>25%</th>\n",
       "      <td>97.800000</td>\n",
       "      <td>69.000000</td>\n",
       "    </tr>\n",
       "    <tr>\n",
       "      <th>50%</th>\n",
       "      <td>98.300000</td>\n",
       "      <td>74.000000</td>\n",
       "    </tr>\n",
       "    <tr>\n",
       "      <th>75%</th>\n",
       "      <td>98.700000</td>\n",
       "      <td>79.000000</td>\n",
       "    </tr>\n",
       "    <tr>\n",
       "      <th>max</th>\n",
       "      <td>100.800000</td>\n",
       "      <td>89.000000</td>\n",
       "    </tr>\n",
       "  </tbody>\n",
       "</table>\n",
       "</div>"
      ],
      "text/plain": [
       "       temperature  heart_rate\n",
       "count   130.000000  130.000000\n",
       "mean     98.249231   73.761538\n",
       "std       0.733183    7.062077\n",
       "min      96.300000   57.000000\n",
       "25%      97.800000   69.000000\n",
       "50%      98.300000   74.000000\n",
       "75%      98.700000   79.000000\n",
       "max     100.800000   89.000000"
      ]
     },
     "execution_count": 24,
     "metadata": {},
     "output_type": "execute_result"
    }
   ],
   "source": [
    "df.describe()"
   ]
  },
  {
   "cell_type": "code",
   "execution_count": 25,
   "metadata": {},
   "outputs": [
    {
     "name": "stdout",
     "output_type": "stream",
     "text": [
      "<class 'pandas.core.frame.DataFrame'>\n",
      "RangeIndex: 130 entries, 0 to 129\n",
      "Data columns (total 3 columns):\n",
      "temperature    130 non-null float64\n",
      "gender         130 non-null object\n",
      "heart_rate     130 non-null float64\n",
      "dtypes: float64(2), object(1)\n",
      "memory usage: 3.1+ KB\n"
     ]
    }
   ],
   "source": [
    "df.info()"
   ]
  },
  {
   "cell_type": "raw",
   "metadata": {},
   "source": [
    "Question1: "
   ]
  },
  {
   "cell_type": "code",
   "execution_count": 26,
   "metadata": {},
   "outputs": [],
   "source": [
    "\n",
    "import numpy as np\n",
    "\n",
    "def ecdf(data):\n",
    "    \"\"\"Compute ECDF for a one-dimensional array of measurements.\"\"\"\n",
    "    # Number of data points: n\n",
    "    n = len(data)\n",
    "\n",
    "    # x-data for the ECDF: x\n",
    "    x = np.sort(data)\n",
    "\n",
    "    # y-data for the ECDF: y\n",
    "    y = np.arange(1, n+1)/ n\n",
    "    return x, y"
   ]
  },
  {
   "cell_type": "code",
   "execution_count": 27,
   "metadata": {},
   "outputs": [],
   "source": [
    "temp_array = np.array(df.temperature)"
   ]
  },
  {
   "cell_type": "code",
   "execution_count": 28,
   "metadata": {},
   "outputs": [],
   "source": [
    "# Create an ECDF from real data: x, y\n",
    "x, y = ecdf(temp_array)"
   ]
  },
  {
   "cell_type": "code",
   "execution_count": 29,
   "metadata": {},
   "outputs": [
    {
     "data": {
      "text/plain": [
       "array([ 99.3,  98.4,  97.8,  99.2,  98. ,  99.2,  98. ,  98.8,  98.4,\n",
       "        98.6,  98.8,  96.7,  98.2,  98.7,  97.8,  98.8,  98.3,  98.2,\n",
       "        97.2,  99.4,  98.3,  98.2,  98.6,  98.4,  97.8,  98. ,  97.8,\n",
       "        98.2,  98.4,  98.1,  98.3,  97.6,  98.5,  98.6,  99.3,  99.5,\n",
       "        99.1,  98.3,  97.9,  96.4,  98.4,  98.4,  96.9,  97.2,  99. ,\n",
       "        97.9,  97.4,  97.4,  97.9,  97.1,  98.9,  98.3,  98.5,  98.6,\n",
       "        98.2,  98.6,  98.8,  98.2,  98.2,  97.6,  99.1,  98.4,  98.2,\n",
       "        98.6,  98.7,  97.4,  97.4,  98.6,  98.7,  98.9,  98.1,  97.7,\n",
       "        98. ,  98.8,  99. ,  98.8,  98. ,  98.4,  97.4,  97.6,  98.8,\n",
       "        98. ,  97.5,  99.2,  98.6,  97.1,  98.6,  98. ,  98.7,  98.1,\n",
       "        97.8, 100. ,  98.8,  97.1,  97.8,  96.8,  99.9,  98.7,  98.8,\n",
       "        98. ,  99. ,  98.5,  98. ,  99.4,  97.6,  96.7,  97. ,  98.6,\n",
       "        98.7,  97.3,  98.8,  98. ,  98.2,  99.1,  99. ,  98. , 100.8,\n",
       "        97.8,  98.7,  98.4,  97.7,  97.9,  99. ,  97.2,  97.5,  96.3,\n",
       "        97.7,  98.2,  97.9,  98.7])"
      ]
     },
     "execution_count": 29,
     "metadata": {},
     "output_type": "execute_result"
    }
   ],
   "source": [
    "temp_array"
   ]
  },
  {
   "cell_type": "code",
   "execution_count": 30,
   "metadata": {},
   "outputs": [
    {
     "data": {
      "text/plain": [
       "<Figure size 640x480 with 1 Axes>"
      ]
     },
     "metadata": {},
     "output_type": "display_data"
    }
   ],
   "source": [
    "# Generate plot\n",
    "import matplotlib.pyplot as plt\n",
    "\n",
    "temp_plot = plt.plot(x, y, marker='.', linestyle='none')\n",
    "temp_plot = plt.xlabel('Body Temperatures Normal')\n",
    "temp_plot = plt.ylabel('ECDF')\n",
    "plt.show()"
   ]
  },
  {
   "cell_type": "code",
   "execution_count": 31,
   "metadata": {},
   "outputs": [
    {
     "data": {
      "image/png": "[encoded data removed]",
      "text/plain": [
       "<Figure size 432x288 with 1 Axes>"
      ]
     },
     "metadata": {},
     "output_type": "display_data"
    }
   ],
   "source": [
    "# Calculate the Mean and the standard deviation\n",
    "\n",
    "mu = np.mean(temp_array)\n",
    "sigma = np.std(temp_array)\n",
    "\n",
    "\n",
    "# Sample out of a normal distribution with this mu and sigma: samples\n",
    "samples = np.random.normal(mu, sigma, size=10000)\n",
    "\n",
    "# Get the CDF of the samples and of the data\n",
    "x_theor, y_theor  = ecdf(samples)\n",
    "x, y = ecdf(temp_array)\n",
    "\n",
    "\n",
    "# Plot the CDFs and show the plot\n",
    "temp_plot = plt.plot(x_theor, y_theor)\n",
    "temp_plot = plt.plot(x, y, marker='.', linestyle='none')\n",
    "temp_plot = plt.xlabel('Body Temperatures Normal')\n",
    "temp_plot = plt.ylabel('CDF')\n",
    "plt.show()\n"
   ]
  },
  {
   "cell_type": "markdown",
   "metadata": {},
   "source": [
    "Therefore, we can say that the distribution of body temperatures is normal"
   ]
  },
  {
   "cell_type": "raw",
   "metadata": {},
   "source": [
    "Question2:"
   ]
  },
  {
   "cell_type": "raw",
   "metadata": {},
   "source": [
    "# Is the sample size large? Are the observations independent?\n",
    "\n",
    "The central limit theorem states that if sample size are large enough, the distribution will be approximately normal. The general rule of n≥30 applies."
   ]
  },
  {
   "cell_type": "code",
   "execution_count": 32,
   "metadata": {},
   "outputs": [
    {
     "data": {
      "text/plain": [
       "98.25"
      ]
     },
     "execution_count": 32,
     "metadata": {},
     "output_type": "execute_result"
    }
   ],
   "source": [
    "#Is the true population mean really 98.6 degrees F?\n",
    "temp_mean = temp_array.mean()\n",
    "round(temp_mean, 2)"
   ]
  },
  {
   "cell_type": "raw",
   "metadata": {},
   "source": [
    "Question3:"
   ]
  },
  {
   "cell_type": "raw",
   "metadata": {},
   "source": [
    "Is the true population mean really 98.6 degrees F?\n",
    "First, try a bootstrap hypothesis test.\n",
    "Now, let's try frequentist statistical testing. Would you use a one-sample or two-sample test? Why?\n",
    "In this situation, is it appropriate to use the  tt  or  zz  statistic?\n",
    "Now try using the other test. How is the result be different? Why?\n",
    "\n",
    "https://ipython-books.github.io/72-getting-started-with-statistical-hypothesis-testing-a-simple-z-test/\n",
    "https://medium.freecodecamp.org/statistical-inference-showdown-the-frequentists-vs-the-bayesians-4c1c986f25de\n",
    "\n",
    "https://towardsdatascience.com/inferential-statistics-series-t-test-using-numpy-2718f8f9bf2f\n"
   ]
  },
  {
   "cell_type": "code",
   "execution_count": 33,
   "metadata": {},
   "outputs": [
    {
     "name": "stdout",
     "output_type": "stream",
     "text": [
      "98.25144122372282    (98.20850633728531, 98.29473913131659)\n",
      "0.6949363663837764    (0.6671494308464294, 0.7242415846022713)\n"
     ]
    }
   ],
   "source": [
    "#https://pypi.org/project/bootstrapped/\n",
    "import bootstrapped.bootstrap as bs\n",
    "import bootstrapped.stats_functions as bs_stats\n",
    "\n",
    "temp_mean = temp_array.mean()\n",
    "temp_std = temp_array.std()\n",
    "\n",
    "population = np.random.normal(loc=temp_mean, scale=temp_std, size=50000)\n",
    "\n",
    "# take 1k 'samples' from the larger population\n",
    "samples = population[:1000]\n",
    "\n",
    "print(bs.bootstrap(samples, stat_func=bs_stats.mean))\n",
    "\n",
    "print(bs.bootstrap(samples, stat_func=bs_stats.std))\n"
   ]
  },
  {
   "cell_type": "code",
   "execution_count": 34,
   "metadata": {},
   "outputs": [],
   "source": [
    "#!pip install bootstrapped"
   ]
  },
  {
   "cell_type": "code",
   "execution_count": 35,
   "metadata": {},
   "outputs": [
    {
     "name": "stdout",
     "output_type": "stream",
     "text": [
      "t = -0.12990531038806455\n",
      "p = 1.793485130421512\n"
     ]
    }
   ],
   "source": [
    "# Now, let's try frequentist statistical testing. Would you use a one-sample or two-sample test? Why?\n",
    "from scipy import stats\n",
    "#Sample Size\n",
    "sample = np.random.normal(mu, sigma, size=130)\n",
    "\n",
    "## Cross Checking with the internal scipy function with two samples\n",
    "t2, p2 = stats.ttest_ind(temp_array,sample)\n",
    "print(\"t = \" + str(t2))\n",
    "print(\"p = \" + str(2*p2))"
   ]
  },
  {
   "cell_type": "raw",
   "metadata": {},
   "source": [
    "In a frequentalist check, we compare our mean with the mean of sample taken from theoritical distribution."
   ]
  },
  {
   "cell_type": "raw",
   "metadata": {},
   "source": [
    "# In this situation, is it appropriate to use the  tt  or  zz  statistic?\n",
    "Because our simple is greater than 30, we will use Z test\n",
    "\n"
   ]
  },
  {
   "cell_type": "raw",
   "metadata": {},
   "source": [
    "https://stats.stackexchange.com/questions/124096/two-samples-z-test-in-python\n",
    "    CompareMeans.ztest_ind"
   ]
  },
  {
   "cell_type": "code",
   "execution_count": 36,
   "metadata": {},
   "outputs": [
    {
     "data": {
      "text/plain": [
       "(0.0, 1.0)"
      ]
     },
     "execution_count": 36,
     "metadata": {},
     "output_type": "execute_result"
    }
   ],
   "source": [
    "# z test is created using one sample\n",
    "#  frequentist approach is the same as z test / t test (samples less than 30)\n",
    "from statsmodels.stats import weightstats as stests\n",
    "stests.ztest(temp_array,value=temp_mean)\n",
    "\n"
   ]
  },
  {
   "cell_type": "code",
   "execution_count": 37,
   "metadata": {},
   "outputs": [
    {
     "name": "stdout",
     "output_type": "stream",
     "text": [
      "t = -1.5788363560509049\n",
      "p = 0.23332617104965217\n"
     ]
    }
   ],
   "source": [
    "#Draw a small sample of size 10 from the data and repeat both frequentist tests.\n",
    "#Sample Size\n",
    "sample2 = np.random.normal(mu, sigma, size=10)\n",
    "## Running the t test\n",
    "t3, p3 = stats.ttest_ind(temp_array,sample2)\n",
    "print(\"t = \" + str(t3))\n",
    "print(\"p = \" + str(2*p3))\n",
    "\n"
   ]
  },
  {
   "cell_type": "raw",
   "metadata": {},
   "source": [
    "Question4:"
   ]
  },
  {
   "cell_type": "raw",
   "metadata": {},
   "source": [
    "Which one is the correct one to use?\n",
    "The first sample better because it is a bigger sample.\n",
    "What do you notice? What does this tell you about the difference in application of the  tt  and  zz  statistic?\n",
    "\"z test\" works for a sample > 30. \"t test\" works for a sample < 30. Therefore, \"z test\" is better!\n",
    "\n"
   ]
  },
  {
   "cell_type": "raw",
   "metadata": {},
   "source": [
    "Question5:"
   ]
  },
  {
   "cell_type": "raw",
   "metadata": {},
   "source": [
    "At what temperature should we consider someone's temperature to be \"abnormal\"?\n",
    "As in the previous example, try calculating everything using the boostrap approach, as well as the frequentist approach.\n",
    "Start by computing the margin of error and confidence interval. When calculating the confidence interval, keep in mind that you should use the appropriate formula for one draw, and not N draws."
   ]
  },
  {
   "cell_type": "code",
   "execution_count": 38,
   "metadata": {},
   "outputs": [
    {
     "name": "stdout",
     "output_type": "stream",
     "text": [
      "Based on Frequentlist approach the lowwer range & upper range are 96.78851521142067 99.70994632704083\n"
     ]
    }
   ],
   "source": [
    "# Frequentelist Approach\n",
    "\n",
    "low_range = temp_mean - 2*temp_std\n",
    "upper_range = temp_mean + 2*temp_std\n",
    "print(\"Based on Frequentlist approach the lowwer range & upper range are\",low_range, upper_range)\n"
   ]
  },
  {
   "cell_type": "raw",
   "metadata": {},
   "source": [
    "Anywhere lower than the low_range and higher than the upper_range is considered abnormal."
   ]
  },
  {
   "cell_type": "code",
   "execution_count": 39,
   "metadata": {},
   "outputs": [],
   "source": [
    "#Call the draw function resps\n",
    "def draw_bs_reps(data, func, size=1):\n",
    "    \"\"\"Draw bootstrap replicates.\"\"\"\n",
    "\n",
    "    # Initialize array of replicates: bs_replicates\n",
    "    bs_replicates = np.empty(size)\n",
    "\n",
    "    # Generate replicates\n",
    "    for i in range(size):\n",
    "        bs_replicates[i] = bootstrap_replicate_1d(data,func)\n",
    "\n",
    "    return bs_replicates"
   ]
  },
  {
   "cell_type": "code",
   "execution_count": 43,
   "metadata": {},
   "outputs": [
    {
     "name": "stdout",
     "output_type": "stream",
     "text": [
      "95% confidence interval:  [98.22880975 98.25813   ]\n",
      "Abnormal temperatures at: 96.75725673160765 and below with a std of 2\n",
      "Abrnomal temperatures at: 99.72968301839235 and above with a std of 2\n"
     ]
    }
   ],
   "source": [
    "def bootstrap_replicate_1d(temp_array, func):\n",
    "    return func(np.random.choice(temp_array, size=len(temp_array)))\n",
    "\n",
    "# Bootstrap approach:\n",
    "bs= np.random.choice(temp_array,10000)\n",
    "bs_means= draw_bs_reps(bs,np.mean,10000)\n",
    "bs_std= draw_bs_reps(bs,np.std,10000)\n",
    "bs_std_mean=np.mean(bs_std)\n",
    "bs_interv_95= np.percentile(bs_means,[2.5,97.5])\n",
    "print(\"95% confidence interval: \", bs_interv_95 )\n",
    "print('Abnormal temperatures at:', bs_interv_95[0]-bs_std_mean*2, 'and below with a std of 2')\n",
    "print('Abrnomal temperatures at:', bs_interv_95[1]+bs_std_mean*2, 'and above with a std of 2')\n"
   ]
  },
  {
   "cell_type": "code",
   "execution_count": 41,
   "metadata": {},
   "outputs": [],
   "source": [
    "# https://www.isixsigma.com/tools-templates/sampling-data/margin-error-and-confidence-levels-made-simple/\n",
    "# Margin error is the same as finding the range \n"
   ]
  },
  {
   "cell_type": "raw",
   "metadata": {},
   "source": [
    "Question6:"
   ]
  },
  {
   "cell_type": "code",
   "execution_count": 55,
   "metadata": {},
   "outputs": [
    {
     "name": "stdout",
     "output_type": "stream",
     "text": [
      "Mean body temp of male samples:  98.1046153846154\n",
      "Mean body temp of female samples:  98.39384615384613\n"
     ]
    }
   ],
   "source": [
    "male_temps = df.temperature[df.gender == 'M']\n",
    "female_temps = df.temperature[df.gender == 'F']\n",
    "print('Mean body temp of male samples: ', np.mean(male_temps))\n",
    "print('Mean body temp of female samples: ', np.mean(female_temps))\n"
   ]
  },
  {
   "cell_type": "code",
   "execution_count": 53,
   "metadata": {},
   "outputs": [
    {
     "data": {
      "text/plain": [
       "(98.39384615384613, 98.1046153846154)"
      ]
     },
     "execution_count": 53,
     "metadata": {},
     "output_type": "execute_result"
    }
   ],
   "source": [
    "# Compute mean of all forces: mean_force\n",
    "import numpy as np\n",
    "mean_female_temp = np.mean(female_temps)\n",
    "mean_male_temp  = np.mean(male_temps)\n",
    "\n",
    "# Generate shifted arrays\n",
    "a_shifted = mean_female_temp - np.mean(mean_female_temp) + mean_female_temp\n",
    "b_shifted = mean_male_temp - np.mean(mean_male_temp) + mean_male_temp\n",
    "\n",
    "a_shifted,b_shifted"
   ]
  },
  {
   "cell_type": "code",
   "execution_count": 54,
   "metadata": {},
   "outputs": [
    {
     "name": "stdout",
     "output_type": "stream",
     "text": [
      "95% confidence interval:  [98.38216975 98.41103   ]\n",
      "Abnormal temperatures at female_temps: 96.91761724736426 and below with a std of 2\n",
      "Abrnomal temperatures at female_temps: 99.87558250263575 and above with a std of 2\n"
     ]
    }
   ],
   "source": [
    "#Call boostrap_replicate\n",
    "def bootstrap_replicate_1d(data, func):\n",
    "    return func(np.random.choice(data, size=len(data)))\n",
    "\n",
    "\n",
    "def bootstrap_replicate_1d(female_temps, func):\n",
    "    return func(np.random.choice(female_temps, size=len(female_temps)))\n",
    "\n",
    "\n",
    "# Bootstrap approach for females:\n",
    "bs= np.random.choice(female_temps,10000)\n",
    "bs_means= draw_bs_reps(bs,np.mean,10000)\n",
    "bs_std= draw_bs_reps(bs,np.std,10000)\n",
    "bs_std_mean=np.mean(bs_std)\n",
    "bs_interv_95= np.percentile(bs_means,[2.5,97.5])\n",
    "print(\"95% confidence interval: \", bs_interv_95 )\n",
    "print('Abnormal temperatures at female_temps:', bs_interv_95[0]-bs_std_mean*2, 'and below with a std of 2')\n",
    "print('Abrnomal temperatures at female_temps:', bs_interv_95[1]+bs_std_mean*2, 'and above with a std of 2')\n"
   ]
  },
  {
   "cell_type": "code",
   "execution_count": 50,
   "metadata": {},
   "outputs": [
    {
     "name": "stdout",
     "output_type": "stream",
     "text": [
      "95% confidence interval:  [98.0955895 98.1229905]\n",
      "Abnormal temperatures at male_temp: 96.70274077244103 and below with a std of 2\n",
      "Abrnomal temperatures at male_temp : 99.51583922755896 and above with a std of 2\n"
     ]
    }
   ],
   "source": [
    "# Bootstrap approach for males:\n",
    "bs= np.random.choice(male_temp,10000)\n",
    "bs_means= draw_bs_reps(bs,np.mean,10000)\n",
    "bs_std= draw_bs_reps(bs,np.std,10000)\n",
    "bs_std_mean=np.mean(bs_std)\n",
    "bs_interv_95= np.percentile(bs_means,[2.5,97.5])\n",
    "print(\"95% confidence interval: \", bs_interv_95 )\n",
    "print('Abnormal temperatures at male_temps:', bs_interv_95[0]-bs_std_mean*2, 'and below with a std of 2')\n",
    "print('Abrnomal temperatures at male_temps :', bs_interv_95[1]+bs_std_mean*2, 'and above with a std of 2')"
   ]
  },
  {
   "cell_type": "code",
   "execution_count": 57,
   "metadata": {},
   "outputs": [
    {
     "name": "stdout",
     "output_type": "stream",
     "text": [
      "Mean body temp of male temperature samples:  98.1046153846154\n",
      "Mean body temp of female temperature samples:  98.39384615384613\n",
      "The T-test is 2 with a p-value of 0.023938264182934196\n"
     ]
    }
   ],
   "source": [
    "#we can again use a t-test as we are comparing the means from two samples\n",
    "male_temps = df.temperature[df.gender == 'M']\n",
    "female_temps = df.temperature[df.gender == 'F']\n",
    "\n",
    "print('Mean body temp of male temperature samples: ', np.mean(male_temps))\n",
    "print('Mean body temp of female temperature samples: ', np.mean(female_temps))\n",
    "\n",
    "gender_ttest, gender_pv = stats.ttest_ind(a=male_temps, b=female_temps, equal_var=False)\n",
    "print('The T-test is %d with a p-value of %s' %(abs(gender_ttest), gender_pv))"
   ]
  },
  {
   "cell_type": "raw",
   "metadata": {},
   "source": [
    "At the 95% confidence interval, we would make the hypothesis as follows:\n",
    "\n",
    "- The Null Hypothesis (Ho): The difference between the male temperature and the female temperature is zero (or they are same)\n",
    "\n",
    "- The Alternative Hypothesis (Ha): The male temperture is different from the female temperature\n",
    "\n",
    "In our case, We are rejecting the null hypothesis because the T-test > 1.9 and we conclude that female and male temperatures are different.\n",
    "\n"
   ]
  }
 ],
 "metadata": {
  "kernelspec": {
   "display_name": "Python 3",
   "language": "python",
   "name": "python3"
  },
  "language_info": {
   "codemirror_mode": {
    "name": "ipython",
    "version": 3
   },
   "file_extension": ".py",
   "mimetype": "text/x-python",
   "name": "python",
   "nbconvert_exporter": "python",
   "pygments_lexer": "ipython3",
   "version": "3.6.5"
  }
 },
 "nbformat": 4,
 "nbformat_minor": 1
}
